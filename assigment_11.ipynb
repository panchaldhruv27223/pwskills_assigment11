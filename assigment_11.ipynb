{
 "cells": [
  {
   "cell_type": "code",
   "execution_count": null,
   "id": "9381f2a8",
   "metadata": {},
   "outputs": [],
   "source": [
    "Q-1. Which function is used to open a file? What are the different modes of opening a file? Explain each mode \n",
    "of file opening."
   ]
  },
  {
   "cell_type": "code",
   "execution_count": null,
   "id": "bc9a4840",
   "metadata": {},
   "outputs": [],
   "source": [
    "ANS :\n",
    "    \n",
    "to open any file we use : open(filename , mode)\n",
    "\n",
    "there are 7 mode to open a file :\n",
    "'r'       open for reading (default)\n",
    "'w'       open for writing, truncating the file first\n",
    "'x'       create a new file and open it for writing\n",
    "'a'       open for writing, appending to the end of the file if it exists\n",
    "'b'       binary mode\n",
    "'t'       text mode (default)\n",
    "'+'       open a disk file for updating (reading and writing)"
   ]
  },
  {
   "cell_type": "code",
   "execution_count": 17,
   "id": "0454a210",
   "metadata": {
    "scrolled": true
   },
   "outputs": [
    {
     "name": "stdout",
     "output_type": "stream",
     "text": [
      "i am a Data Scientist \n",
      "\n",
      "i am a Data Scientist \n",
      "yaa hooo\n",
      "yaa hooo\n"
     ]
    }
   ],
   "source": [
    "-->\n",
    "# we use default mode text mode \n",
    "\n",
    "#  w : writing mode it delete past data and write a new data or we can say it overwrite data \n",
    "#      if file is not exist then it create a file  \n",
    "\n",
    "with open(\"first.log\" , \"w\") as f:\n",
    "    f.write(\"i am a Data Scientist \\n\")\n",
    "\n",
    "#  r :  it is used to read the data from the file \n",
    "#       if file is not exist the it give a error \n",
    "\n",
    "with open(\"first.log\" , \"r\") as f :\n",
    "    print(f.read())\n",
    "    \n",
    "    \n",
    "#  a : it is a append mode it append the data to the file with out truncating \n",
    "\n",
    "with open(\"first.log\" , \"a\") as f :\n",
    "    f.write(\"yaa hooo\")\n",
    "    \n",
    "\n",
    "with open(\"first.log\" , \"r\") as f :\n",
    "    print(f.read())\n",
    "    \n",
    "    \n",
    "# x : it create a new file and open for writing  :\n",
    "\n",
    "# with open(\"first1.log\" , \"x\") as f :\n",
    "#     f.write(\"yaa hooo\")\n",
    "\n",
    "    \n",
    "with open(\"first1.log\" , \"r\") as f :\n",
    "    print(f.read())\n",
    "    \n",
    "    \n",
    "#  there is default mode text t and there is a another mode b binary mode \n",
    "\n"
   ]
  },
  {
   "cell_type": "code",
   "execution_count": 4,
   "id": "2e320825",
   "metadata": {},
   "outputs": [
    {
     "name": "stdout",
     "output_type": "stream",
     "text": [
      "b'dhruv//15615115./5521./45'\n"
     ]
    }
   ],
   "source": [
    "-->\n",
    "#  write opration with binary mode \n",
    "\n",
    "with open(\"first2.log\" , \"wb\") as f :\n",
    "    f.write(b\"dhruv//15615115./5521./45\")\n",
    "    \n",
    "#  read opration with binary mode :\n",
    "\n",
    "with open(\"first2.log\" , \"rb\") as f :\n",
    "    print(f.read())\n",
    "    \n"
   ]
  },
  {
   "cell_type": "code",
   "execution_count": 59,
   "id": "30945294",
   "metadata": {},
   "outputs": [
    {
     "name": "stdout",
     "output_type": "stream",
     "text": [
      "hello  its dhruv panchal \n"
     ]
    }
   ],
   "source": [
    "-->\n",
    "#  +:\n",
    "\n",
    "#  r+ : reading and writing \n",
    "\n",
    "#  w+ : writing and reading \n",
    "\n",
    "with open(\"first3.log\" , \"w+\") as f :\n",
    "    f.write(\"hello  its dhruv panchal \")\n",
    "    \n",
    "with open(\"first3.log\" , \"r+\") as  f:\n",
    "    print(f.read())\n",
    "    \n",
    "    "
   ]
  },
  {
   "cell_type": "code",
   "execution_count": 13,
   "id": "b015aa9d",
   "metadata": {},
   "outputs": [],
   "source": [
    "Q-2.  Why close() function is used? Why is it important to close a file?"
   ]
  },
  {
   "cell_type": "code",
   "execution_count": 7,
   "id": "087b222a",
   "metadata": {},
   "outputs": [],
   "source": [
    "-->\n",
    "f  = open(\"first4.log\" , \"w\")\n",
    "f.write(\"i am a student of data science master batch 2.O \")\n",
    "\n",
    "#  if do not close the file it just create a file .\n",
    "#  it do not write any thing in that file \n",
    "#  after we close the file it write and close the file \n",
    "#  which meanse when we close the file it release the memory and update the file \n",
    "f.close()\n",
    "\n",
    "\n",
    "# it is important to close the file."
   ]
  },
  {
   "cell_type": "code",
   "execution_count": null,
   "id": "b00b16fe",
   "metadata": {},
   "outputs": [],
   "source": [
    "Q-3. Write a python program to create a text file. Write ‘I want to become a Data Scientist’ in that file. Then \n",
    "close the file. Open this file and read the content of the file.  "
   ]
  },
  {
   "cell_type": "code",
   "execution_count": 9,
   "id": "61d8bbb0",
   "metadata": {},
   "outputs": [
    {
     "name": "stdout",
     "output_type": "stream",
     "text": [
      "I want to become a Data Scientist\n"
     ]
    }
   ],
   "source": [
    "f = open(\"text.txt\" , \"w\")\n",
    "f.write(\"I want to become a Data Scientist\")\n",
    "f.close()\n",
    "\n",
    "f = open(\"text.txt\" , \"r\")\n",
    "r =f.read()\n",
    "print(r)\n",
    "f.close()"
   ]
  },
  {
   "cell_type": "code",
   "execution_count": null,
   "id": "c5a2126d",
   "metadata": {},
   "outputs": [],
   "source": [
    "Q-4. Explain the following with python code: read(), readline() and readlines()."
   ]
  },
  {
   "cell_type": "code",
   "execution_count": 12,
   "id": "9bac09b6",
   "metadata": {},
   "outputs": [],
   "source": [
    "with open(\"text.txt\" , \"a\") as f :\n",
    "    f.write(\"\"\" 'r' open for reading (default) \n",
    "'w' open for writing, truncating the file first \n",
    "'x' create a new file and open it for writing \n",
    "'a' open for writing, appending to the end of the file if it exists\n",
    "'b' binary mode\n",
    "'t' text mode (default)\n",
    "'+' open a disk file for updating (reading and writing)\"\"\")"
   ]
  },
  {
   "cell_type": "code",
   "execution_count": 38,
   "id": "dfe9c3b6",
   "metadata": {},
   "outputs": [
    {
     "name": "stdout",
     "output_type": "stream",
     "text": [
      "I want to become a Data Scientist 'r' open for reading (default) \n",
      "'w' open for writing, truncating the file first \n",
      "'x' create a new file and open it for writing \n",
      "'a' open for writing, appending to the end of the file if it exists\n",
      "'b' binary mode\n",
      "'t' text mode (default)\n",
      "'+' open a disk file for updating (reading and writing)\n"
     ]
    }
   ],
   "source": [
    "with open(\"text.txt\" ,\"r\" )as f :\n",
    "    print(f.read())\n",
    "\n",
    "#  read() : -  it read whole file at once"
   ]
  },
  {
   "cell_type": "code",
   "execution_count": 43,
   "id": "d0c3a9c7",
   "metadata": {},
   "outputs": [
    {
     "name": "stdout",
     "output_type": "stream",
     "text": [
      "I want to become a Data Scientist 'r' open for reading (default) \n",
      "\n",
      "'w' open for writing, truncating the file first \n",
      "\n",
      "'x' create a new file and open it for writing \n",
      "\n",
      "'a' open for writing, appending to the end of the file if it exists\n",
      "\n",
      "'b' binary mode\n",
      "\n",
      "'t' text mode (default)\n",
      "\n",
      "'+' open a disk file for updating (reading and writing)\n",
      "\n",
      "\n"
     ]
    }
   ],
   "source": [
    "with open(\"text.txt\" ,\"r\" )as f :\n",
    "    print(f.readline())\n",
    "    print(f.readline())\n",
    "    print(f.readline())\n",
    "    print(f.readline())\n",
    "    print(f.readline())\n",
    "    print(f.readline())\n",
    "    print(f.readline())\n",
    "    print(f.readline())\n",
    "    print(f.readline())\n",
    "    \n",
    "#  readline() :- it read line by line  line by line after a end point it give nothing "
   ]
  },
  {
   "cell_type": "code",
   "execution_count": 53,
   "id": "f52f320f",
   "metadata": {},
   "outputs": [
    {
     "name": "stdout",
     "output_type": "stream",
     "text": [
      "I want to become a Data Scientist 'r' open for reading (default) \n",
      "\n",
      "I want to become a Data Scientist 'r' open for reading (default) \n",
      "\n",
      "'w' open for writing, truncating the file first \n",
      "\n"
     ]
    }
   ],
   "source": [
    "with open(\"text.txt\" ,\"r\" )as f :\n",
    "    \n",
    "    r = f.readlines(66)\n",
    "    print(r[0])\n",
    "    \n",
    "    for i in r :\n",
    "        print(i)\n",
    "    \n",
    "# it reaturning a list of each line .\n",
    "# we can control  a returning of line by give a number of bytes. \n",
    "# if the total number of bytes returned exceeds the specified number, no more lines are returned."
   ]
  },
  {
   "cell_type": "code",
   "execution_count": null,
   "id": "d40b291b",
   "metadata": {},
   "outputs": [],
   "source": [
    "Q-5. Explain why with statement is used with open(). What is the advantage of using with statement and open() together?"
   ]
  },
  {
   "cell_type": "code",
   "execution_count": 55,
   "id": "7a2e40e0",
   "metadata": {},
   "outputs": [
    {
     "name": "stdout",
     "output_type": "stream",
     "text": [
      "i am a Data Scientist \n",
      "yaa hooo\n"
     ]
    }
   ],
   "source": [
    "# open() is used to open a file and then we can perform a opration read or write .\n",
    "# open() can not close the file so we have to close file\n",
    "\n",
    "# so now using with with open we have one advantage is that we do not need to close the file \n",
    "# it automaticly close the file \n",
    "# this happend because with has two built in methos called __enter__() ,  __exit__()\n",
    "\n",
    "with open(\"first.log\" , \"r\")as f :\n",
    "    print(f.read())\n",
    "    \n",
    "#  see we do not close the file \n",
    "#  it automatic close \n"
   ]
  },
  {
   "cell_type": "code",
   "execution_count": null,
   "id": "e92a9ead",
   "metadata": {},
   "outputs": [],
   "source": [
    "Q-6. Explain the write() and writelines() functions. Give a suitable example."
   ]
  },
  {
   "cell_type": "code",
   "execution_count": 8,
   "id": "06e959e9",
   "metadata": {},
   "outputs": [],
   "source": [
    "d= \"when business payments firm Bill. \\ncom went public in November 2019, the banks leading the initial public offering included Goldman Sachs, Bank of America and Jefferies. Missing was JPMorgan Chase, despite the fact that it had worked closely with the Palo Alto, Calif.based company.\"\n"
   ]
  },
  {
   "cell_type": "code",
   "execution_count": 9,
   "id": "a89e92b5",
   "metadata": {},
   "outputs": [],
   "source": [
    "data1 = [\"dhruv \\n\",\"panchal \",\"hello \",\"sir \"]"
   ]
  },
  {
   "cell_type": "code",
   "execution_count": 10,
   "id": "795ab8f2",
   "metadata": {},
   "outputs": [
    {
     "name": "stdout",
     "output_type": "stream",
     "text": [
      "when business payments firm Bill. \n",
      "com went public in November 2019, the banks leading the initial public offering included Goldman Sachs, Bank of America and Jefferies. Missing was JPMorgan Chase, despite the fact that it had worked closely with the Palo Alto, Calif.based company.\n"
     ]
    }
   ],
   "source": [
    "\n",
    "with open(\"demo.log\" , \"w\") as f:\n",
    "    f.write(d)\n",
    "    \n",
    "#  with open(\"demo.log\" , \"w\") as f:\n",
    "#     f.write(data1)\n",
    "\n",
    "    \n",
    "with open(\"demo.log\" , \"r\") as f:\n",
    "    print(f.read())\n",
    "    \n",
    "#  write()  only take string as arguments it can not work with list "
   ]
  },
  {
   "cell_type": "code",
   "execution_count": 11,
   "id": "56075591",
   "metadata": {
    "scrolled": true
   },
   "outputs": [
    {
     "name": "stdout",
     "output_type": "stream",
     "text": [
      "dhruv \n",
      "panchal hello sir \n"
     ]
    }
   ],
   "source": [
    "with open(\"demo1.log\" , \"w\") as f:\n",
    "    f.writelines(data1)\n",
    "    \n",
    "with open(\"demo1.log\" , \"r\") as f:\n",
    "    print(f.read())\n",
    "    \n",
    "#  writelines() :- take list as arguments and write or append to the file "
   ]
  },
  {
   "cell_type": "code",
   "execution_count": null,
   "id": "105ea69f",
   "metadata": {},
   "outputs": [],
   "source": []
  }
 ],
 "metadata": {
  "kernelspec": {
   "display_name": "Python 3 (ipykernel)",
   "language": "python",
   "name": "python3"
  },
  "language_info": {
   "codemirror_mode": {
    "name": "ipython",
    "version": 3
   },
   "file_extension": ".py",
   "mimetype": "text/x-python",
   "name": "python",
   "nbconvert_exporter": "python",
   "pygments_lexer": "ipython3",
   "version": "3.9.7"
  }
 },
 "nbformat": 4,
 "nbformat_minor": 5
}
